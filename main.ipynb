{
  "nbformat": 4,
  "nbformat_minor": 0,
  "metadata": {
    "colab": {
      "name": "Cancer-de-mama.ipynb",
      "provenance": [],
      "collapsed_sections": [],
      "authorship_tag": "ABX9TyOClHk35/d4eQ7x6E4ChwUN",
      "include_colab_link": true
    },
    "kernelspec": {
      "name": "python3",
      "display_name": "Python 3"
    },
    "language_info": {
      "name": "python"
    }
  },
  "cells": [
    {
      "cell_type": "markdown",
      "metadata": {
        "id": "view-in-github",
        "colab_type": "text"
      },
      "source": [
        "<a href=\"https://colab.research.google.com/github/VictorFreir/Breast-Cancer-Predicition/blob/main/main.ipynb\" target=\"_parent\"><img src=\"https://colab.research.google.com/assets/colab-badge.svg\" alt=\"Open In Colab\"/></a>"
      ]
    },
    {
      "cell_type": "markdown",
      "metadata": {
        "id": "AKJZF8gjy5q8"
      },
      "source": [
        "<h1>Hey there!</h1>\n",
        "<h3>Seja muito bem vindo e sinta-se no seu próprio repositório.</h3>\n",
        "<p>Dev, se acomode, sirva seu café, pois nós hoje vamos tentar prever se um tumor é maligno ou benigno baseado em suas características.</p>"
      ]
    },
    {
      "cell_type": "markdown",
      "metadata": {
        "id": "kFH_7Snq0Ox1"
      },
      "source": [
        "#Introdução"
      ]
    },
    {
      "cell_type": "markdown",
      "metadata": {
        "id": "EbGiwksqCICH"
      },
      "source": [
        "<p>Antes de começarmos a codar \"adoidado\", vamos entender o problema que queremos solucionar. Nós queremos prever se um tumor - especificamente na mama - é maligno ou benigno baseado em suas características. Caso você não saiba nada sobre tumores, você conseguirá acompanhar tanquilamente nosso projeto. No entanto, caso, mesmo assim, você queira entender um pouco mais, eu recomendo o seguinte vídeo: <a href='https://www.youtube.com/watch?v=72-2Bumwyh0&t=75s'>Link</a></p>\n",
        "<p>Seguindo, para solucionarmos esse desafio, nós usaremos a base de dados <a href='https://www.kaggle.com/merishnasuwal/breast-cancer-prediction-dataset'>Breast Cancer Prediction Dataset</a> disponível no <a href='https://www.kaggle.com/merishnasuwal/breast-cancer-prediction-dataset'>Kaggle</a>.\n",
        "</p>\n",
        "<p>Ao decorrer do projeto, nós utilizaremos diversas ferramentas que você não precisa conhecer a fundo para acompanhar o projeto. Então, caso não sinta-se confortável com o código, eu estarei explicando a parte mais importante, que é o raciocínio para solucionar o case.\n",
        "<h3>Ao código!</h3>\n",
        "<p>Agora, vamos partir para o código. Começaremos importando as bibliotecas necessárias para o nosso projeto e a base de dados:</p>"
      ]
    },
    {
      "cell_type": "code",
      "metadata": {
        "id": "9PPjqIqHyzIj"
      },
      "source": [
        "import numpy as np \n",
        "import pandas as pd \n",
        "import seaborn as sns\n",
        "import plotly.express as px\n",
        "import matplotlib.pyplot as plt\n",
        "from sklearn.preprocessing import LabelEncoder\n",
        "from sklearn.naive_bayes import GaussianNB\n",
        "from sklearn.model_selection import train_test_split\n",
        "from sklearn.metrics import accuracy_score\n",
        "from sklearn.metrics import confusion_matrix\n",
        "from yellowbrick.classifier import ConfusionMatrix"
      ],
      "execution_count": 13,
      "outputs": []
    },
    {
      "cell_type": "code",
      "metadata": {
        "colab": {
          "base_uri": "https://localhost:8080/",
          "height": 142
        },
        "id": "_wWXMDkvFW6x",
        "outputId": "79f4327e-84c3-4903-b419-0adcb8f32cc5"
      },
      "source": [
        "df = pd.read_csv('Breast_cancer_data.csv')\n",
        "df.head(3)"
      ],
      "execution_count": 2,
      "outputs": [
        {
          "output_type": "execute_result",
          "data": {
            "text/html": [
              "<div>\n",
              "<style scoped>\n",
              "    .dataframe tbody tr th:only-of-type {\n",
              "        vertical-align: middle;\n",
              "    }\n",
              "\n",
              "    .dataframe tbody tr th {\n",
              "        vertical-align: top;\n",
              "    }\n",
              "\n",
              "    .dataframe thead th {\n",
              "        text-align: right;\n",
              "    }\n",
              "</style>\n",
              "<table border=\"1\" class=\"dataframe\">\n",
              "  <thead>\n",
              "    <tr style=\"text-align: right;\">\n",
              "      <th></th>\n",
              "      <th>mean_radius</th>\n",
              "      <th>mean_texture</th>\n",
              "      <th>mean_perimeter</th>\n",
              "      <th>mean_area</th>\n",
              "      <th>mean_smoothness</th>\n",
              "      <th>diagnosis</th>\n",
              "    </tr>\n",
              "  </thead>\n",
              "  <tbody>\n",
              "    <tr>\n",
              "      <th>0</th>\n",
              "      <td>17.99</td>\n",
              "      <td>10.38</td>\n",
              "      <td>122.8</td>\n",
              "      <td>1001.0</td>\n",
              "      <td>0.11840</td>\n",
              "      <td>0</td>\n",
              "    </tr>\n",
              "    <tr>\n",
              "      <th>1</th>\n",
              "      <td>20.57</td>\n",
              "      <td>17.77</td>\n",
              "      <td>132.9</td>\n",
              "      <td>1326.0</td>\n",
              "      <td>0.08474</td>\n",
              "      <td>0</td>\n",
              "    </tr>\n",
              "    <tr>\n",
              "      <th>2</th>\n",
              "      <td>19.69</td>\n",
              "      <td>21.25</td>\n",
              "      <td>130.0</td>\n",
              "      <td>1203.0</td>\n",
              "      <td>0.10960</td>\n",
              "      <td>0</td>\n",
              "    </tr>\n",
              "  </tbody>\n",
              "</table>\n",
              "</div>"
            ],
            "text/plain": [
              "   mean_radius  mean_texture  ...  mean_smoothness  diagnosis\n",
              "0        17.99         10.38  ...          0.11840          0\n",
              "1        20.57         17.77  ...          0.08474          0\n",
              "2        19.69         21.25  ...          0.10960          0\n",
              "\n",
              "[3 rows x 6 columns]"
            ]
          },
          "metadata": {},
          "execution_count": 2
        }
      ]
    },
    {
      "cell_type": "code",
      "metadata": {
        "colab": {
          "base_uri": "https://localhost:8080/"
        },
        "id": "RQzQLk79FauG",
        "outputId": "d96994b0-4014-4922-ec7d-dc3616de1773"
      },
      "source": [
        "df.shape"
      ],
      "execution_count": 3,
      "outputs": [
        {
          "output_type": "execute_result",
          "data": {
            "text/plain": [
              "(569, 6)"
            ]
          },
          "metadata": {},
          "execution_count": 3
        }
      ]
    },
    {
      "cell_type": "markdown",
      "metadata": {
        "id": "pzIkTUd5GOcv"
      },
      "source": [
        "<p>Acima, podemos ver, respectivamente, as bibliotecas que utilizaremos, as três primeiras linhas da base de dados junto às suas informações trazidas e o \"tamanho\" da nossa base.</p>"
      ]
    },
    {
      "cell_type": "markdown",
      "metadata": {
        "id": "GPawN9WhGqaj"
      },
      "source": [
        "# Pré-processamento dos dados"
      ]
    },
    {
      "cell_type": "markdown",
      "metadata": {
        "id": "1EipWmxhHgcy"
      },
      "source": [
        "Nas próximas linhas de código, estaremos averiguando se será necessária alguma limpeza, modificação ou padronização dos dados. Começaremos vendo se os existe algum dado faltante no nosso Dataset:"
      ]
    },
    {
      "cell_type": "code",
      "metadata": {
        "colab": {
          "base_uri": "https://localhost:8080/"
        },
        "id": "fVtlkhguGA-i",
        "outputId": "77560fa3-553e-45de-843d-45f464a0db1d"
      },
      "source": [
        "df.isnull().sum()"
      ],
      "execution_count": 4,
      "outputs": [
        {
          "output_type": "execute_result",
          "data": {
            "text/plain": [
              "mean_radius        0\n",
              "mean_texture       0\n",
              "mean_perimeter     0\n",
              "mean_area          0\n",
              "mean_smoothness    0\n",
              "diagnosis          0\n",
              "dtype: int64"
            ]
          },
          "metadata": {},
          "execution_count": 4
        }
      ]
    },
    {
      "cell_type": "markdown",
      "metadata": {
        "id": "GNElX1BgH8Wc"
      },
      "source": [
        "<p>Vemos que nossa base já aparenta ser uma base limpa. Dessa forma, podemos então verificar se os tipos dos dados estão em númericos ou em strings(palavras):</p>"
      ]
    },
    {
      "cell_type": "code",
      "metadata": {
        "colab": {
          "base_uri": "https://localhost:8080/"
        },
        "id": "36EI_643H7TZ",
        "outputId": "1dd63c7d-1ccf-4d21-82f2-c3b08958701d"
      },
      "source": [
        "for column in df.columns:\n",
        "    print(df[column].dtype)"
      ],
      "execution_count": 5,
      "outputs": [
        {
          "output_type": "stream",
          "name": "stdout",
          "text": [
            "float64\n",
            "float64\n",
            "float64\n",
            "float64\n",
            "float64\n",
            "int64\n"
          ]
        }
      ]
    },
    {
      "cell_type": "markdown",
      "metadata": {
        "id": "ZcrpgLCFgVL8"
      },
      "source": [
        "<p>Bem, visto que todas as colunas já estão em seus devidos formatos, nós podemos seguir para a próxima etapa do projeto.</p>"
      ]
    },
    {
      "cell_type": "markdown",
      "metadata": {
        "id": "FH9vJAEAghyL"
      },
      "source": [
        "# Análise exploratória dos dados"
      ]
    },
    {
      "cell_type": "markdown",
      "metadata": {
        "id": "pNH9UGvcglkJ"
      },
      "source": [
        "<p>Tendo verificado que nossa base de dados é limpa, podemos seguir para a parte de analisar os dados e tentar enxergar padrões neles.</p>"
      ]
    },
    {
      "cell_type": "code",
      "metadata": {
        "id": "y21ijZg0Hxnt",
        "colab": {
          "base_uri": "https://localhost:8080/",
          "height": 142
        },
        "outputId": "eff3666f-69e8-4dec-b86e-d43affeb88bf"
      },
      "source": [
        "df.head(3)"
      ],
      "execution_count": 6,
      "outputs": [
        {
          "output_type": "execute_result",
          "data": {
            "text/html": [
              "<div>\n",
              "<style scoped>\n",
              "    .dataframe tbody tr th:only-of-type {\n",
              "        vertical-align: middle;\n",
              "    }\n",
              "\n",
              "    .dataframe tbody tr th {\n",
              "        vertical-align: top;\n",
              "    }\n",
              "\n",
              "    .dataframe thead th {\n",
              "        text-align: right;\n",
              "    }\n",
              "</style>\n",
              "<table border=\"1\" class=\"dataframe\">\n",
              "  <thead>\n",
              "    <tr style=\"text-align: right;\">\n",
              "      <th></th>\n",
              "      <th>mean_radius</th>\n",
              "      <th>mean_texture</th>\n",
              "      <th>mean_perimeter</th>\n",
              "      <th>mean_area</th>\n",
              "      <th>mean_smoothness</th>\n",
              "      <th>diagnosis</th>\n",
              "    </tr>\n",
              "  </thead>\n",
              "  <tbody>\n",
              "    <tr>\n",
              "      <th>0</th>\n",
              "      <td>17.99</td>\n",
              "      <td>10.38</td>\n",
              "      <td>122.8</td>\n",
              "      <td>1001.0</td>\n",
              "      <td>0.11840</td>\n",
              "      <td>0</td>\n",
              "    </tr>\n",
              "    <tr>\n",
              "      <th>1</th>\n",
              "      <td>20.57</td>\n",
              "      <td>17.77</td>\n",
              "      <td>132.9</td>\n",
              "      <td>1326.0</td>\n",
              "      <td>0.08474</td>\n",
              "      <td>0</td>\n",
              "    </tr>\n",
              "    <tr>\n",
              "      <th>2</th>\n",
              "      <td>19.69</td>\n",
              "      <td>21.25</td>\n",
              "      <td>130.0</td>\n",
              "      <td>1203.0</td>\n",
              "      <td>0.10960</td>\n",
              "      <td>0</td>\n",
              "    </tr>\n",
              "  </tbody>\n",
              "</table>\n",
              "</div>"
            ],
            "text/plain": [
              "   mean_radius  mean_texture  ...  mean_smoothness  diagnosis\n",
              "0        17.99         10.38  ...          0.11840          0\n",
              "1        20.57         17.77  ...          0.08474          0\n",
              "2        19.69         21.25  ...          0.10960          0\n",
              "\n",
              "[3 rows x 6 columns]"
            ]
          },
          "metadata": {},
          "execution_count": 6
        }
      ]
    },
    {
      "cell_type": "markdown",
      "metadata": {
        "id": "KBoiFiF340Zn"
      },
      "source": [
        "<p>Para começar, já que todas as variáveis preditoras são valores continuos, nós podemos dar uma olhada na correlação entre elas:</p>"
      ]
    },
    {
      "cell_type": "code",
      "metadata": {
        "colab": {
          "base_uri": "https://localhost:8080/",
          "height": 361
        },
        "id": "qRYo4I6p4YcE",
        "outputId": "67461c3b-431e-4348-9450-baa92facb89f"
      },
      "source": [
        "sns.heatmap(df.corr())"
      ],
      "execution_count": 7,
      "outputs": [
        {
          "output_type": "execute_result",
          "data": {
            "text/plain": [
              "<matplotlib.axes._subplots.AxesSubplot at 0x7f15db1faf50>"
            ]
          },
          "metadata": {},
          "execution_count": 7
        },
        {
          "output_type": "display_data",
          "data": {
            "image/png": "[encoded data removed]",
            "text/plain": [
              "<Figure size 432x288 with 2 Axes>"
            ]
          },
          "metadata": {
            "needs_background": "light"
          }
        }
      ]
    },
    {
      "cell_type": "markdown",
      "metadata": {
        "id": "JYq4FinI5-6I"
      },
      "source": [
        "<p>Visto que precisamos encontrar padrões de comportamento dos dados, vamos plotar alguns gráficos que possam nos mostrar algo de interessante, começando vendo a relação da textura com o tamanho do raio do tumor e o diagnóstico:</p>"
      ]
    },
    {
      "cell_type": "code",
      "metadata": {
        "colab": {
          "base_uri": "https://localhost:8080/",
          "height": 279
        },
        "id": "dT5sJI4856z6",
        "outputId": "543ac54e-0577-4250-cfcb-ca1672795d60"
      },
      "source": [
        "fig = sns.scatterplot(data=df,x='mean_texture',y='mean_radius',hue='diagnosis')\n",
        "fig.set(xlabel='Textura',ylabel='Tamanho do raio')\n",
        "plt.show()"
      ],
      "execution_count": 17,
      "outputs": [
        {
          "output_type": "display_data",
          "data": {
            "image/png": "[encoded data removed]",
            "text/plain": [
              "<Figure size 432x288 with 1 Axes>"
            ]
          },
          "metadata": {
            "needs_background": "light"
          }
        }
      ]
    },
    {
      "cell_type": "markdown",
      "metadata": {
        "id": "KoLNgdQZ7HLR"
      },
      "source": [
        "<p>Vemos que temos uma forte padronização no que diz respeito ao tamanho do raio e o diagnóstico, uma vez que, normalmente, quanto maior o tamanho do raio, menor as chances do tumor ser maligno.</p>"
      ]
    },
    {
      "cell_type": "code",
      "metadata": {
        "colab": {
          "base_uri": "https://localhost:8080/",
          "height": 298
        },
        "id": "f2RKbgZW6Vqh",
        "outputId": "d27996f5-ff3e-4d69-b7a7-f73964b228ff"
      },
      "source": [
        "fig = sns.histplot(data=df,x='mean_area',hue='diagnosis')\n",
        "fig.set(xlabel='Área ocupada pelo tumor',ylabel='Frequência')\n"
      ],
      "execution_count": 18,
      "outputs": [
        {
          "output_type": "execute_result",
          "data": {
            "text/plain": [
              "[Text(0, 0.5, 'Frequência'), Text(0.5, 0, 'Área ocupada pelo tumor')]"
            ]
          },
          "metadata": {},
          "execution_count": 18
        },
        {
          "output_type": "display_data",
          "data": {
            "image/png": "[encoded data removed]",
            "text/plain": [
              "<Figure size 432x288 with 1 Axes>"
            ]
          },
          "metadata": {
            "needs_background": "light"
          }
        }
      ]
    },
    {
      "cell_type": "markdown",
      "metadata": {
        "id": "4HrrdTUO9Pa4"
      },
      "source": [
        "<p>Acima, nós confirmamos que normalmente os menores tumores - no questito área ocupada - tem mais chances de serem malignos.</p>"
      ]
    },
    {
      "cell_type": "code",
      "metadata": {
        "colab": {
          "base_uri": "https://localhost:8080/",
          "height": 297
        },
        "id": "7zU6goqy86vh",
        "outputId": "6c659e59-f090-4806-df7d-fbd732300290"
      },
      "source": [
        "sns.histplot(data=df,x='mean_smoothness',hue='diagnosis')"
      ],
      "execution_count": 20,
      "outputs": [
        {
          "output_type": "execute_result",
          "data": {
            "text/plain": [
              "<matplotlib.axes._subplots.AxesSubplot at 0x7f15d1311850>"
            ]
          },
          "metadata": {},
          "execution_count": 20
        },
        {
          "output_type": "display_data",
          "data": {
            "image/png": "[encoded data removed]",
            "text/plain": [
              "<Figure size 432x288 with 1 Axes>"
            ]
          },
          "metadata": {
            "needs_background": "light"
          }
        }
      ]
    },
    {
      "cell_type": "markdown",
      "metadata": {
        "id": "RMhUmHqk_I6Q"
      },
      "source": [
        "<p>Agora, você pode ver que a \"suavidade tumoral\" também tem um intervalo onde a incidência de tumor maligno é consideravelmente maior que a de tumor benigno.</p>\n",
        "<p>Portanto, nós já podemos ver que os dados tem padrões com relação ao diagnóstico ser benigno ou maligno. Tendo isso em vista, nós podemos começar a criar nosso modelo de Machine Learning, uma vez que ele irá identificar esses padrões para prever se um tumor x será maligno ou benigno.</p>"
      ]
    },
    {
      "cell_type": "markdown",
      "metadata": {
        "id": "zXUjK6BADE0n"
      },
      "source": [
        "# Machine Learning"
      ]
    },
    {
      "cell_type": "markdown",
      "metadata": {
        "id": "YEqPmlsdDIiy"
      },
      "source": [
        "\"Victor, qual algoritmo de Machine Learning nós usaremos?\". Ótima pergunta, por ser um projeto de classificação em uma base de dados pequena, nós utilizaremos um modelo de Naive Bayes. Para isso, vamos começar separando as variáveis preditoras e a classe:"
      ]
    },
    {
      "cell_type": "code",
      "metadata": {
        "id": "synb2UCe_Imb"
      },
      "source": [
        "labelx = ['mean_radius','mean_texture','mean_perimeter','mean_area','mean_smoothness']\n",
        "x = df[labelx]\n",
        "y = df['diagnosis']"
      ],
      "execution_count": 21,
      "outputs": []
    },
    {
      "cell_type": "markdown",
      "metadata": {
        "id": "NAgomPbxFYpR"
      },
      "source": [
        "<p>Também, iremos separar os dados em dados de teste e dados de treinamento, para que, no final, possamos avaliar nosso modelo:</p>"
      ]
    },
    {
      "cell_type": "code",
      "metadata": {
        "id": "klmSLhW29gU0"
      },
      "source": [
        "x_train, x_test, y_train, y_test = train_test_split(x, y, test_size=0.2, random_state=1)"
      ],
      "execution_count": 22,
      "outputs": []
    },
    {
      "cell_type": "markdown",
      "metadata": {
        "id": "gk1h-l4SGLkZ"
      },
      "source": [
        "\"Victor, e o modelo? A gente não faz nunca não é?\". Então, como você está ansioso para essa parte, nós, enfim, chegamos nela. Vamos começar criando o nosso modelo Naive Bayes e treinando ele:"
      ]
    },
    {
      "cell_type": "code",
      "metadata": {
        "colab": {
          "base_uri": "https://localhost:8080/"
        },
        "id": "meskLMG9GK60",
        "outputId": "249041e0-f2be-493b-a32c-315b19ec5b2e"
      },
      "source": [
        "naive_bayes = GaussianNB()\n",
        "naive_bayes.fit(x_train,y_train)"
      ],
      "execution_count": 23,
      "outputs": [
        {
          "output_type": "execute_result",
          "data": {
            "text/plain": [
              "GaussianNB(priors=None, var_smoothing=1e-09)"
            ]
          },
          "metadata": {},
          "execution_count": 23
        }
      ]
    },
    {
      "cell_type": "markdown",
      "metadata": {
        "id": "Zf6cO-MGGb9F"
      },
      "source": [
        "<p>Tendo criado nosso modelo, nós podemos fazer a parte mais divertida, prever os valores:</p>"
      ]
    },
    {
      "cell_type": "code",
      "metadata": {
        "id": "cPp540nqGbPF"
      },
      "source": [
        "predictions = naive_bayes.predict(x_test)"
      ],
      "execution_count": 24,
      "outputs": []
    },
    {
      "cell_type": "markdown",
      "metadata": {
        "id": "9XJAuzWpHMIB"
      },
      "source": [
        "<p>\"Divertido, Victor? Não aconteceu nada!\" Calma, jovem, você está pensando isso, pois não vimos quanto o modelo acerta, quanto erra. Então, faremos isso:</p>"
      ]
    },
    {
      "cell_type": "code",
      "metadata": {
        "colab": {
          "base_uri": "https://localhost:8080/"
        },
        "id": "0xUukNEYGkcg",
        "outputId": "75047a84-f86f-4587-9537-e5b9172de2b4"
      },
      "source": [
        "accuracy_score(y_test,predictions)"
      ],
      "execution_count": 25,
      "outputs": [
        {
          "output_type": "execute_result",
          "data": {
            "text/plain": [
              "0.8947368421052632"
            ]
          },
          "metadata": {},
          "execution_count": 25
        }
      ]
    },
    {
      "cell_type": "markdown",
      "metadata": {
        "id": "lUeIzWHjHkWO"
      },
      "source": [
        "<p>É isso mesmo que tu tá vendo, nosso modelo acertou aproximadamente 89,4% das vezes. Ou seja, a cada 100 tumores passados, nosso modelo acerta 89 diagnósticos.</p>\n",
        "<p>\"Victor, ia ser massa se desse para a gente ver se ele caracterizou um tumor maligno como benigno ou vice versa.\" Então, deixa eu te dizer que tem como fazer isso: </p>"
      ]
    },
    {
      "cell_type": "code",
      "metadata": {
        "colab": {
          "base_uri": "https://localhost:8080/",
          "height": 278
        },
        "id": "nVub1D-cHhGI",
        "outputId": "a9dc89f1-9995-41b5-aba2-d5727cbf34b3"
      },
      "source": [
        "cm = ConfusionMatrix(naive_bayes)\n",
        "cm.fit(x_train,y_train)\n",
        "cm.score(x_test,y_test)"
      ],
      "execution_count": 26,
      "outputs": [
        {
          "output_type": "execute_result",
          "data": {
            "text/plain": [
              "0.8947368421052632"
            ]
          },
          "metadata": {},
          "execution_count": 26
        },
        {
          "output_type": "display_data",
          "data": {
            "image/png": "[encoded data removed]",
            "text/plain": [
              "<Figure size 432x288 with 1 Axes>"
            ]
          },
          "metadata": {
            "needs_background": "light"
          }
        }
      ]
    },
    {
      "cell_type": "markdown",
      "metadata": {
        "id": "5MG_HyePJDwN"
      },
      "source": [
        "No eixo X é o que o nosso modelo marcou e no eixo Y é o que devia ser marcado."
      ]
    },
    {
      "cell_type": "markdown",
      "metadata": {
        "id": "IEbavnKPJOoN"
      },
      "source": [
        "# Conclusão"
      ]
    },
    {
      "cell_type": "markdown",
      "metadata": {
        "id": "t9CrQDMaJ3v-"
      },
      "source": [
        "<p>Chegando ao fim, nós conseguimos solucionar o problema inicial que era: prever se um tumor era maligno ou benigno com uma acertividade relevante. Vimos que nosso modelo se saiu muito bem alcançando incríveis 89,4% de acurácia na nossa base de dados. </p>\n",
        "<p>Portanto, eu agradeço por você ter me acompanhado até aqui, espero sinceramente que tenha gostado da nossa aventura nos dados e que sua caneca de café tenha secado de tanto interesse. Caso tenha gostado, te convido à acompanhar meu desenvolvimento profissional pelo meu <a href=\"https://github.com/VictorFreir\" >GitHub</a> ou pelo meu <a href=\"https://www.linkedin.com/in/victor-vin%C3%ADcius-freire-de-ara%C3%BAjo-bb3782207\">LinkedIn</a>. Sinta-se a vontade para conhecer meus projetos passados e antigos. Caso tenha alguma crítica, sugestão ou dúvida você está livre para me contactar pelas minhas redes. Até a próxima!</p>\n",
        "\n"
      ]
    }
  ]
}